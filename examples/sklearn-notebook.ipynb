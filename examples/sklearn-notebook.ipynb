{
 "cells": [
  {
   "cell_type": "markdown",
   "metadata": {},
   "source": [
    "# Data Quality Validation"
   ]
  },
  {
   "cell_type": "code",
   "execution_count": null,
   "metadata": {},
   "outputs": [],
   "source": [
    "import time\n",
    "\n",
    "import pandas as pd\n",
    "from duckdq.checks import Check, CheckLevel\n",
    "from duckdq.verification_suite import VerificationSuite\n",
    "\n",
    "df = pd.read_csv(\"data/train.csv\")\n",
    "\n",
    "verification_result = (\n",
    "    VerificationSuite()\n",
    "        .on_data(df)\n",
    "        .add_check(\n",
    "        Check(CheckLevel.WARNING, \"Basic Check 2\")\n",
    "            .is_complete(\"Name\")\n",
    "            .is_contained_in(\"Pclass\",(1,2,3))\n",
    "            .is_contained_in(\"Sex\",(\"male\",\"female\"))\n",
    "            .is_contained_in(\"SibSp\",[1, 0, 3, 4, 2, 5, 8])\n",
    "            .is_contained_in(\"Embarked\",(\"S\",\"C\",\"Q\"))\n",
    "            .has_min(\"Age\", lambda mn: mn > 0)\n",
    "            .has_max(\"Age\", lambda mx: mx < 60)\n",
    "            .has_min(\"Fare\", lambda mn: mn >= 0)\n",
    "            .has_max(\"Fare\", lambda mx: mx < 999)\n",
    "    )\n",
    "    .run()\n",
    ")\n",
    "print(verification_result)\n"
   ]
  },
  {
   "cell_type": "markdown",
   "metadata": {},
   "source": [
    "# Data Quality Validation for ML Pipelines"
   ]
  },
  {
   "cell_type": "code",
   "execution_count": null,
   "metadata": {
    "scrolled": true
   },
   "outputs": [],
   "source": [
    "from sklearn.svm import SVC\n",
    "from sklearn.preprocessing import StandardScaler\n",
    "from sklearn.datasets import make_classification\n",
    "from sklearn.model_selection import train_test_split\n",
    "from sklearn.pipeline import Pipeline\n",
    "from sklearn.impute import SimpleImputer\n",
    "from sklearn.preprocessing import MinMaxScaler\n",
    "from sklearn.preprocessing import OneHotEncoder\n",
    "from sklearn.compose import ColumnTransformer\n",
    "from sklearn.base import BaseEstimator, TransformerMixin\n",
    "import pandas as pd\n",
    "from duckdq.sklearn import DQPipeline, Assertion, CheckLevel"
   ]
  },
  {
   "cell_type": "code",
   "execution_count": null,
   "metadata": {},
   "outputs": [],
   "source": [
    "df = pd.read_csv(\"data/train.csv\")\n",
    "y = df[\"Survived\"]\n",
    "X = df.drop(\"Survived\",axis=1)\n",
    "X_train, X_test, y_train, y_test = train_test_split(X, y, random_state=0)"
   ]
  },
  {
   "cell_type": "code",
   "execution_count": null,
   "metadata": {},
   "outputs": [],
   "source": [
    "features_numericas = ['Age', 'Fare', 'SibSp', 'Parch']\n",
    "features_categoricas = ['Embarked', 'Sex', 'Pclass']\n",
    "features_para_remover = ['Name', 'Cabin', 'Ticket', 'PassengerId']\n",
    "\n",
    "numeric_transformer = Pipeline(steps=[\n",
    "    ('imputer', SimpleImputer(strategy='median')),\n",
    "    ('scaler', MinMaxScaler())])\n",
    "\n",
    "categorical_transformer = Pipeline(steps=[\n",
    "    ('imputer', SimpleImputer(strategy='most_frequent')),\n",
    "    ('onehot', OneHotEncoder())])\n",
    "\n",
    "preprocessor = ColumnTransformer(\n",
    "    transformers=[\n",
    "        ('Features numericas', numeric_transformer, features_numericas),\n",
    "        ('Features categoricas', categorical_transformer, features_categoricas),\n",
    "        ('Feature para remover', 'drop', features_para_remover)\n",
    "])"
   ]
  },
  {
   "cell_type": "code",
   "execution_count": null,
   "metadata": {},
   "outputs": [],
   "source": [
    "inp_assert = (Assertion(CheckLevel.WARNING,description=\"Basic Check\")\n",
    "                    .is_complete(\"Name\")\n",
    "                    .is_contained_in(\"Pclass\",(1,2,3)) \n",
    "                    .is_contained_in(\"Sex\",(\"male\",\"female\")) \n",
    "                    .is_contained_in(\"SibSp\",[1, 0, 3, 4, 2, 5, 8]) \n",
    "                    .is_contained_in(\"Embarked\",(\"S\",\"C\",\"Q\")) \n",
    "                    .has_min(\"Age\", lambda mn: mn > 0)  \n",
    "                    .has_max(\"Age\", lambda mx: mx < 100) \n",
    "                    .has_min(\"Fare\", lambda mn: mn >= 0)  \n",
    "                    .has_max(\"Fare\", lambda mx: mx < 999) \n",
    "                    .is_unique(\"PassengerId\")\n",
    "                    .is_unique(\"Name\"))\n",
    "\n",
    "outp_assert = (Assertion(CheckLevel.WARNING,description=\"Basic Check\")\n",
    "                  # check ratio of positives is less than 10%\n",
    "                  .is_unique(\"y\"))"
   ]
  },
  {
   "cell_type": "code",
   "execution_count": null,
   "metadata": {
    "scrolled": true
   },
   "outputs": [],
   "source": [
    "from sklearn.linear_model import LogisticRegression\n",
    "\n",
    "pipe = DQPipeline([('preprocessor', preprocessor),\n",
    "                 ('clf', LogisticRegression(solver='liblinear')),\n",
    "                 ],\n",
    "                 input_assertion=inp_assert,\n",
    "                 output_assertion=outp_assert)\n",
    "\n",
    "pipe.fit(X_train, y_train)"
   ]
  },
  {
   "cell_type": "code",
   "execution_count": null,
   "metadata": {},
   "outputs": [],
   "source": [
    "pipe.predict(X_test)"
   ]
  }
 ],
 "metadata": {
  "kernelspec": {
   "display_name": "Python 3",
   "language": "python",
   "name": "python3"
  },
  "language_info": {
   "codemirror_mode": {
    "name": "ipython",
    "version": 3
   },
   "file_extension": ".py",
   "mimetype": "text/x-python",
   "name": "python",
   "nbconvert_exporter": "python",
   "pygments_lexer": "ipython3",
   "version": "3.7.9"
  }
 },
 "nbformat": 4,
 "nbformat_minor": 4
}
